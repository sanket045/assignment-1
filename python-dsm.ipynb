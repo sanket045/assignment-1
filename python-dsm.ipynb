{
 "cells": [
  {
   "cell_type": "code",
   "execution_count": 1,
   "id": "a194e5bd-4b23-46cd-b024-05b01ba55eab",
   "metadata": {},
   "outputs": [],
   "source": [
    "# ******************* ASSIGNMENT-1 *****************"
   ]
  },
  {
   "cell_type": "code",
   "execution_count": 2,
   "id": "ad00dc1e-b7b7-4749-a819-1773d658519f",
   "metadata": {},
   "outputs": [],
   "source": [
    "#Q1-1.   Who developed Python Programming Language? \n",
    "#Ans-  Guido van Rossum"
   ]
  },
  {
   "cell_type": "code",
   "execution_count": 3,
   "id": "45996273-6934-4e1a-988d-d4f43a6d8361",
   "metadata": {},
   "outputs": [
    {
     "data": {
      "text/plain": [
       "'Ans. Python is an interpreted programming language, supporting object-oriented, structured\\n   and functional programing'"
      ]
     },
     "execution_count": 3,
     "metadata": {},
     "output_type": "execute_result"
    }
   ],
   "source": [
    "#Q2.  Which type of Programming does Python support? \n",
    "'''Ans. Python is an interpreted programming language, supporting object-oriented, structured\n",
    "   and functional programing'''   "
   ]
  },
  {
   "cell_type": "code",
   "execution_count": null,
   "id": "c5616fb7-0d6f-47b2-9293-5b34bc7117ff",
   "metadata": {},
   "outputs": [],
   "source": [
    "'''3. Is Python case sensitive when dealing with identifiers?\n",
    "  ANS-    Yes.\n",
    "  \n",
    "  4. What is the correct extension of the Python file?\n",
    "  \n",
    "  ANS- .py\n",
    "  \n",
    "  5. Is Python code compiled or interpreted? \n",
    "  Ans-  interpreted\n",
    "  \n",
    "  6. Name a few blocks of code used to define in Python language? \n",
    "  Ans- module, function body, class defination.\n",
    "  \n",
    "  7. State a character used to give single-line comments in Python? \n",
    "  Ans- #sanket munjal\n",
    "  \n",
    "  8. Mention functions which can help us to find the version of python that we are currently working on? \n",
    "  Ans-using python--version\n",
    "  \n",
    "  9. Python supports the creation of anonymous functions at runtime, using a construct called \n",
    "  Ans-lambda function\n",
    "  \n",
    "  10. What does pip stand for python? \n",
    "  Ans-prefer installer program\n",
    "  \n",
    "  11. Mention a few built-in functions in python?\n",
    "  Ans print(), type(), input() etc\n",
    "  \n",
    "  12. What is the maximum possible length of an identifier in Python? \n",
    "  Ans- 79.\n",
    "  \n",
    "  13. What are the benefits of using Python? \n",
    "  Ans- free and open spource, dynamically typed, supportive community, easy to understand.\n",
    "  \n",
    "  14. How is memory managed in Python? \n",
    "  Ans-through private heappace.\n",
    "  \n",
    "  15. How to install Python on Windows and set path variables?\n",
    "  Ans- install python from python.org then\n",
    "       right click on My Computer and click on properties.\n",
    "       click on Advanced System settings.\n",
    "       click on Environment Variable tab.\n",
    "       click on new tab of user variables.\n",
    "       write path in variable name.\n",
    "       copy the path of Python folder.\n",
    "       paste path of Python in variable value.\n",
    "\n",
    " 16.  Is indentation required in python? \n",
    " Ans- yes\n",
    "'''\n",
    "  "
   ]
  }
 ],
 "metadata": {
  "kernelspec": {
   "display_name": "Python 3 (ipykernel)",
   "language": "python",
   "name": "python3"
  },
  "language_info": {
   "codemirror_mode": {
    "name": "ipython",
    "version": 3
   },
   "file_extension": ".py",
   "mimetype": "text/x-python",
   "name": "python",
   "nbconvert_exporter": "python",
   "pygments_lexer": "ipython3",
   "version": "3.10.8"
  }
 },
 "nbformat": 4,
 "nbformat_minor": 5
}
